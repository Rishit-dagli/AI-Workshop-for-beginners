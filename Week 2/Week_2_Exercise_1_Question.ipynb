{
  "nbformat": 4,
  "nbformat_minor": 0,
  "metadata": {
    "colab": {
      "name": "Week 2 Exercise 1 Question.ipynb",
      "provenance": [],
      "include_colab_link": true
    },
    "kernelspec": {
      "name": "python3",
      "display_name": "Python 3"
    }
  },
  "cells": [
    {
      "cell_type": "markdown",
      "metadata": {
        "id": "view-in-github",
        "colab_type": "text"
      },
      "source": [
        "<a href=\"https://colab.research.google.com/github/Rishit-dagli/AI-Workshop-for-beginners/blob/master/Week%202/Week_2_Exercise_1_Question.ipynb\" target=\"_parent\"><img src=\"https://colab.research.google.com/assets/colab-badge.svg\" alt=\"Open In Colab\"/></a>"
      ]
    },
    {
      "cell_type": "markdown",
      "metadata": {
        "id": "CxgeWxvGbz80",
        "colab_type": "text"
      },
      "source": [
        "##### Copyright 2020 Rishit Dagli"
      ]
    },
    {
      "cell_type": "code",
      "metadata": {
        "id": "yf1R4EU8bq50",
        "colab_type": "code",
        "colab": {}
      },
      "source": [
        "#@title Licensed under the Apache License, Version 2.0 (the \"License\");\n",
        "# you may not use this file except in compliance with the License.\n",
        "# You may obtain a copy of the License at\n",
        "#\n",
        "# https://www.apache.org/licenses/LICENSE-2.0\n",
        "#\n",
        "# Unless required by applicable law or agreed to in writing, software\n",
        "# distributed under the License is distributed on an \"AS IS\" BASIS,\n",
        "# WITHOUT WARRANTIES OR CONDITIONS OF ANY KIND, either express or implied.\n",
        "# See the License for the specific language governing permissions and\n",
        "# limitations under the License."
      ],
      "execution_count": 0,
      "outputs": []
    },
    {
      "cell_type": "markdown",
      "metadata": {
        "id": "i0xRL3kp8p5J",
        "colab_type": "text"
      },
      "source": [
        "In this exercise you'll try to build a neural network that predicts the price of a house according to a simple formula.\n",
        "\n",
        "So, imagine if house pricing was as easy as a house costs 50k + 50k per bedroom, so that a 1 bedroom house costs 100k, a 2 bedroom house costs 150k etc.\n",
        "\n",
        "How would you create a neural network that learns this relationship so that it would predict a 7 bedroom house as costing close to 400k etc.\n",
        "\n",
        "Hint: Your network might work better if you scale the house price down. You don't have to give the answer 400...it might be better to create something that predicts the number 4, and then your answer is in the 'hundreds of thousands' etc.\n"
      ]
    },
    {
      "cell_type": "code",
      "metadata": {
        "id": "1G5YoHI28k4P",
        "colab_type": "code",
        "colab": {}
      },
      "source": [
        "# TASK:\n",
        "# Import the libraries - numpy under alias np, tensorflow under alias tf\n",
        "\n",
        "try:\n",
        "  %tensorflow_version 2.x\n",
        "except Exception:\n",
        "  pass\n",
        "\n",
        "# START CODE HERE (2 lines)\n",
        "\n",
        "# END CODE HERE"
      ],
      "execution_count": 0,
      "outputs": []
    },
    {
      "cell_type": "markdown",
      "metadata": {
        "id": "lp8mBx1eE0Ol",
        "colab_type": "text"
      },
      "source": [
        "You should at the end get a loss between `0.01` - `0.03` and a prediction of almost 4"
      ]
    },
    {
      "cell_type": "code",
      "metadata": {
        "id": "3cejZj9N84jm",
        "colab_type": "code",
        "colab": {}
      },
      "source": [
        "# TASK:\n",
        "# Define, compile and train a model\n",
        "\n",
        "def house_model(y_new):\n",
        "    xs=[]\n",
        "    ys=[]\n",
        "    for i in range(1,10):\n",
        "        xs.append(i)\n",
        "        ys.append((1+float(i))*50)\n",
        "    \n",
        "    xs=np.array(xs,dtype=float)\n",
        "    ys=np.array(ys, dtype=float)\n",
        "\n",
        "    # Deine and compile a model below, you are free to use as many units you like\n",
        "    # Use the loss \"mean_squared error\" and optimizer \"sgd\"\n",
        "\n",
        "    # START CODE HERE (2 lines)\n",
        "    \n",
        "    # END CODE HERE\n",
        "    \n",
        "    # Fit a model below on xs and ys, you are fre to use as many epochs you like!\n",
        "    # START CODE HERE (1 line)\n",
        "    \n",
        "    # END CODE HERE\n",
        "\n",
        "    return (model.predict(y_new)[0]/100)"
      ],
      "execution_count": 0,
      "outputs": []
    },
    {
      "cell_type": "markdown",
      "metadata": {
        "id": "zF1u7swgBxxq",
        "colab_type": "text"
      },
      "source": [
        "Note you might have wait almost 5 minutes for the code below to run"
      ]
    },
    {
      "cell_type": "code",
      "metadata": {
        "id": "df06SWHeCfCQ",
        "colab_type": "code",
        "colab": {}
      },
      "source": [
        "prediction = house_model([7.0])\n",
        "print(prediction)"
      ],
      "execution_count": 0,
      "outputs": []
    },
    {
      "cell_type": "markdown",
      "metadata": {
        "id": "WOlAjOHMBcrv",
        "colab_type": "text"
      },
      "source": [
        "You should at the end get a loss between `0.01` - `0.03` and a prediction of almost 4"
      ]
    }
  ]
}