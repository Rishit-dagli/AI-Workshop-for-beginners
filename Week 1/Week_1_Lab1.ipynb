{
  "nbformat": 4,
  "nbformat_minor": 0,
  "metadata": {
    "colab": {
      "name": "Week 1 Lab1.ipynb",
      "provenance": [],
      "authorship_tag": "ABX9TyN9iejIrP64Jl6p6xQzFiuz",
      "include_colab_link": true
    },
    "kernelspec": {
      "name": "python3",
      "display_name": "Python 3"
    }
  },
  "cells": [
    {
      "cell_type": "markdown",
      "metadata": {
        "id": "view-in-github",
        "colab_type": "text"
      },
      "source": [
        "<a href=\"https://colab.research.google.com/github/Rishit-dagli/AI-Workshop-for-beginners/blob/master/Week%201/Week_1_Lab1.ipynb\" target=\"_parent\"><img src=\"https://colab.research.google.com/assets/colab-badge.svg\" alt=\"Open In Colab\"/></a>"
      ]
    },
    {
      "cell_type": "markdown",
      "metadata": {
        "id": "CxgeWxvGbz80",
        "colab_type": "text"
      },
      "source": [
        "##### Copyright 2020 Rishit Dagli"
      ]
    },
    {
      "cell_type": "code",
      "metadata": {
        "id": "yf1R4EU8bq50",
        "colab_type": "code",
        "colab": {}
      },
      "source": [
        "#@title Licensed under the Apache License, Version 2.0 (the \"License\");\n",
        "# you may not use this file except in compliance with the License.\n",
        "# You may obtain a copy of the License at\n",
        "#\n",
        "# https://www.apache.org/licenses/LICENSE-2.0\n",
        "#\n",
        "# Unless required by applicable law or agreed to in writing, software\n",
        "# distributed under the License is distributed on an \"AS IS\" BASIS,\n",
        "# WITHOUT WARRANTIES OR CONDITIONS OF ANY KIND, either express or implied.\n",
        "# See the License for the specific language governing permissions and\n",
        "# limitations under the License."
      ],
      "execution_count": 0,
      "outputs": []
    },
    {
      "cell_type": "markdown",
      "metadata": {
        "id": "FPA1giq_EXBu",
        "colab_type": "text"
      },
      "source": [
        "<h1> Python for Beginners </h1>\n",
        "\n",
        "## Topics covered in this notebook\n",
        "\n",
        "* Basic Python\n",
        "\n",
        "* Using GPUs\n",
        "\n",
        "* Understanding the Google Colab interface\n",
        "\n",
        "* Functions\n",
        "\n",
        "<p><img alt=\"Colaboratory logo\" height=\"45px\" src=\"/img/colab_favicon.ico\" align=\"left\" hspace=\"10px\" vspace=\"0px\"></p>\n",
        "\n",
        "<h1>What is Colaboratory?</h1>\n",
        "\n",
        "Colaboratory, or \"Colab\" for short, allows you to write and execute Python in your browser, with \n",
        "- Zero configuration required\n",
        "- Free access to GPUs\n",
        "- Easy sharing\n",
        "\n",
        "Whether you're a **student**, a **data scientist** or an **AI researcher**, Colab can make your work easier. Watch [Introduction to Colab](https://www.youtube.com/watch?v=inN8seMm7UI) to learn more, or just get started below!"
      ]
    },
    {
      "cell_type": "markdown",
      "metadata": {
        "id": "encMWJ3AFSJb",
        "colab_type": "text"
      },
      "source": [
        "## Getting started\n",
        "\n",
        "Colab lets you run Python code in a Jupyter like interface very easily, lets see a simple example of multiplication. To execute the code in the above cell, select it with a click and then either press the play button to the left of the code, or use the keyboard shortcut \"Command/Ctrl+Enter\". To edit the code, just click the cell and start editing.\n",
        "\n",
        "Variables that you define in one cell can later be used in other cells:"
      ]
    },
    {
      "cell_type": "code",
      "metadata": {
        "id": "Qah_cT01EQfh",
        "colab_type": "code",
        "outputId": "66ff7696-e4c7-41ca-dc93-74b97f5b6f4f",
        "colab": {
          "base_uri": "https://localhost:8080/",
          "height": 34
        }
      },
      "source": [
        "seconds_in_a_day = 24 * 60 * 60\n",
        "seconds_in_a_day"
      ],
      "execution_count": 0,
      "outputs": [
        {
          "output_type": "execute_result",
          "data": {
            "text/plain": [
              "86400"
            ]
          },
          "metadata": {
            "tags": []
          },
          "execution_count": 1
        }
      ]
    },
    {
      "cell_type": "code",
      "metadata": {
        "id": "KVLvzmATFlRD",
        "colab_type": "code",
        "outputId": "de35db5b-bec1-419d-f74a-381dc9002cc4",
        "colab": {
          "base_uri": "https://localhost:8080/",
          "height": 34
        }
      },
      "source": [
        "seconds_in_a_week = 7 * seconds_in_a_day\n",
        "seconds_in_a_week"
      ],
      "execution_count": 0,
      "outputs": [
        {
          "output_type": "execute_result",
          "data": {
            "text/plain": [
              "604800"
            ]
          },
          "metadata": {
            "tags": []
          },
          "execution_count": 2
        }
      ]
    },
    {
      "cell_type": "markdown",
      "metadata": {
        "id": "oVpuKYOBFu8j",
        "colab_type": "text"
      },
      "source": [
        "## Visualizations\n",
        "\n",
        "Google Colab is powerful and lets you create stunning visualizations, here is a visualization created in less than 10 lines of code, just run this. Don't worry about the code if you don't understand it."
      ]
    },
    {
      "cell_type": "code",
      "metadata": {
        "id": "aNmD4GGRFpGh",
        "colab_type": "code",
        "outputId": "e569cf5e-77e3-4e6f-a2dd-12b0310d581b",
        "colab": {
          "base_uri": "https://localhost:8080/",
          "height": 281
        }
      },
      "source": [
        "import numpy as np\n",
        "from matplotlib import pyplot as plt\n",
        "\n",
        "ys = 200 + np.random.randn(100)\n",
        "x = [x for x in range(len(ys))]\n",
        "\n",
        "plt.plot(x, ys, '-')\n",
        "plt.fill_between(x, ys, 195, where=(ys > 195), facecolor='g', alpha=0.6)\n",
        "\n",
        "plt.title(\"Sample Visualization\")\n",
        "plt.show()"
      ],
      "execution_count": 0,
      "outputs": [
        {
          "output_type": "display_data",
          "data": {
            "image/png": "[encoded data removed]",
            "text/plain": [
              "<Figure size 432x288 with 1 Axes>"
            ]
          },
          "metadata": {
            "tags": [],
            "needs_background": "light"
          }
        }
      ]
    },
    {
      "cell_type": "markdown",
      "metadata": {
        "id": "1GdzugjhGa6Y",
        "colab_type": "text"
      },
      "source": [
        "## Libraries\n",
        "\n",
        "Libraries are a pretty important part, they allow you to write code easily, we will use some libraries a lot as we move forward. Let us first see how we can import a library in Python"
      ]
    },
    {
      "cell_type": "markdown",
      "metadata": {
        "id": "edGC7VRaG56K",
        "colab_type": "text"
      },
      "source": [
        "We will start by some examples\n",
        "\n",
        "1. We will now import a library called `numpy`"
      ]
    },
    {
      "cell_type": "code",
      "metadata": {
        "id": "6UL0ZTlBGWaM",
        "colab_type": "code",
        "colab": {}
      },
      "source": [
        "import numpy"
      ],
      "execution_count": 0,
      "outputs": []
    },
    {
      "cell_type": "markdown",
      "metadata": {
        "id": "hgLwzE2NHIMI",
        "colab_type": "text"
      },
      "source": [
        "2. Aliases\n",
        "\n",
        "We will still import the library numpy but while using it in code it becomes very cumbersome to type `numpy` every time while using it so we make an alias for it, or tell that numpy can also be referred by the name `np`."
      ]
    },
    {
      "cell_type": "code",
      "metadata": {
        "id": "XIXfl40uHFH_",
        "colab_type": "code",
        "colab": {}
      },
      "source": [
        "import numpy as np"
      ],
      "execution_count": 0,
      "outputs": []
    },
    {
      "cell_type": "markdown",
      "metadata": {
        "id": "IIhsSepRIFPA",
        "colab_type": "text"
      },
      "source": [
        "3. We can also import specific classes from a library like this, here we are importing `ndarray` from `numpy`"
      ]
    },
    {
      "cell_type": "code",
      "metadata": {
        "id": "dLQuFeZrHfFy",
        "colab_type": "code",
        "colab": {}
      },
      "source": [
        "from numpy import ndarray"
      ],
      "execution_count": 0,
      "outputs": []
    },
    {
      "cell_type": "markdown",
      "metadata": {
        "id": "sYFtoegPcRCx",
        "colab_type": "text"
      },
      "source": [
        "## Functions\n",
        "\n",
        "Python is a dynamically typed language which means you do not need to specify variable types. We will now see how we can define a function which takes a `x` and returns a `y` according to formula\n",
        "$$y = 5x_1 + 2x_1 + 4$$"
      ]
    },
    {
      "cell_type": "code",
      "metadata": {
        "id": "knix_Ovvdyph",
        "colab_type": "code",
        "colab": {}
      },
      "source": [
        "def sample_func(x1, x2):\n",
        "  y = (5*x1) + (2*x1) + 4\n",
        "  return y"
      ],
      "execution_count": 0,
      "outputs": []
    },
    {
      "cell_type": "code",
      "metadata": {
        "id": "0TESPqTleDaE",
        "colab_type": "code",
        "colab": {
          "base_uri": "https://localhost:8080/",
          "height": 34
        },
        "outputId": "dd10c1cf-1860-40b1-f3a4-cab6c98b4768"
      },
      "source": [
        "sample_func(1, 1)"
      ],
      "execution_count": 2,
      "outputs": [
        {
          "output_type": "execute_result",
          "data": {
            "text/plain": [
              "11"
            ]
          },
          "metadata": {
            "tags": []
          },
          "execution_count": 2
        }
      ]
    },
    {
      "cell_type": "markdown",
      "metadata": {
        "id": "YC3Hq-RcITCy",
        "colab_type": "text"
      },
      "source": [
        "## Hardware accelerators"
      ]
    },
    {
      "cell_type": "markdown",
      "metadata": {
        "id": "KNiyA4DAIXL9",
        "colab_type": "text"
      },
      "source": [
        "Lets check our current hardware in Colab, go to Runtime > Change Runtime Type\n",
        "\n",
        "You might see None which indicates that you are using a CPU\n",
        "\n",
        "![image.png](data:image/png;base64,iVBORw0KGgoAAAANSUhEUgAAAXoAAAEgCAYAAAC6tbgBAAAgAElEQVR4Ae2d+5MURbr35/eNN875D87xB8LwDd/gGAHhBqHhLvK6KgtHEfEFF11QEEQFkeDiHUQEBES5iIqIsAq4gsqKq6soCKyIyk083C/LRUDuMMNFLvnGJ/Vpsmu6erqH6eqemm9G9FR3VVbmk5/M+mbWkzlVVffcc4/j071797yfbt26uejnz3/+s9NHDNQG1AbUBkrfBqL6y++6dNv0vSpfxGjC9a3Mu+++2+kjBmoDagNqA7XbQH11NarP+bS8CvAPPfSQW7ZsmTt27JhTEAEREAERaNwE0HI0HW1H473QL1++vHGXStaLgAiIgAjUIoC2e6G/66673MmTJ2tF0A4REAEREIHGTQBtR+Or+KMgAiIgAiKQTgIS+nTWq0olAiIgAhkCEvoMCn0RAREQgXQS8ELftWvXdJZOpRIBERABEXBofNWf/vQnoRABERABEUgpATS+6s4770xp8VQsERABERABNF5Cr3YgAiIgAikm4IW+S5cuKS6iiiYCIiACTZsAGl/VuXPnpk1BpRcBERCBFBNA4yX0Ka5gFU0EREAEvNDfcccdIiECIiACIpBSAmh8lYQ+pbWrYomACIiAc84LfadOnQRDBERABEQgpQTQ+Krbb789pcVTsURABERABNB4Cb3agQiIgAikmIAX+o4dO6a4iCqaCIiACDRtAmh81W233da0Kaj0IiACIpBiAmi8hD7FFayiiYAIiICEXm1ABERABFJOQEKf8gpW8URABETAC32HDh1EQgREQAREIKUE0PgqCX1Ka1fFEgEREAHnnIRezUAEREAEUk5AQp/yClbxREAEREBCrzYgAiIgAiknIKFPeQWreCIgAiIgoVcbSITA1q1b3XvvvecOHTqUSH7KRARE4CIBL/S33nrrxT365k6ePOn69u3rLrvsMjdnzpyyEQntGDlyZNnsuNSMjx075rp27ep5jh079lKT0/kiIAJFEkDjq5ISekQT8bz66qvd999/n9NUBI04lyJsl5pGKLAS+trVFMd38+bN7pprrvEfvls4e/asmzBhgrvyyivdvHnzbLe2IiACCREoi9Aj5D179nTHjx+vVcw4EakVMc+OS01DQp8HrnO+E87VGccJff7UdFQERKDUBMom9AjF7Nmz3YULF7LKeKkiTWKXmoaEPqtKav2I4yuhr4VKO0SgIgiUVehbt27ttmzZkgUiTkToEL7++mvXvXt3d/nll7tmzZo53mz+5ZdfuvPnz/s0li9f7t0+dCLhhzQtkA5uo969e/t0SAv/8dKlSzOdTij0M2fOdHxatWrl02zXrp1bvHhxJm6Ybl32WVy2mzZtcg899JBr3rx5Jt0PPvjAnTlzJhMttCMsw8aNGx3sKCM+7/CczMm/fjl16pR7/fXXM/HJb/Dgwe5f//pXNKqrqalxU6dOzcS99tprffqHDx/2ceP4PvPMM5k5jZA7bhzEPyyHucKYlL3lllt8GeAJYytTHOMDBw64YcOGeWbU24MPPujWrFnj07G8rFDYDJuWLVv6PNjymzQURKCpEfBCzwWXRDAfPRcl7zBEFAYMGOCFwPLPJfSI8zvvvOPFPRQSviP4iBN+4FWrVvmLPry4KduUKVN88qQzd+5cL/C50iEP4oTChF85V9wFCxaYyf6cQuyzE+hUTOCjaQ8dOjTDI7TDhH7//v3+Rb+c179/f1ddXW3J1tpyjDjEJb/27dtnCR+8LJCuTZhGbeLFwhyP4ztx4kSH2N94442+PqgTvt91111u+/btWTxzCX2bNm1qMcbelStXmnk+f+yI2nbFFVf4PEOhDxnRFii38b755pvdzp07M+nqiwg0BQLoYFXSQk9+//znP/0IDlEIRTOX0DMCZwKXuLh7GMHzYWIPIY6KQq40qExzLRDfRuWkQ5qkjSDs27cvS5gYZa5bt86LOSNehBix6dKlizty5IhvI8XYt2fPHte2bVufho3G6Vy++uqrTBmNR1ToQ+E28c3XSBmBUy7y27Vrl48apsHInrsBOklsoVwPP/xwZu4EW01cZ8yYkcmqLr6h6HJSWI5cQk8eZh958jYcbKEDIcCHyVz2RetjxIgRfn+Ypw0oevTo4Y4ePerTCMXf0vUH9EcEmgCBsgn9wYMHvcBy8SJEXOCEXCLChUm8gQMHZrkpECn2cWz06NFeEOLSYP+0adN83KeeesqLm8/QOS/YJi6IYyhMs2bNsmh+a50FHYyNiIuxDxHH3rCjIOFQzFjaiQ2hHYyYx40b589F7HDf1BXi8mJEu2TJEu/2QOT37t3rGOm2aNHCd2phunSm2Gs2cSxXHbHf2ISiy/6wHLmEnjucMFj6Vk/h8syww+EcOOBWC/OMq48NGzb4crNVEIGmRKBsQo+PllU3rL4xoUZ07CJnSwhFIiq6HLfR2wMPPOB9zOyLpsE+OgVGsOSV70N6YZ4mTKRBYBRvnQIiGMYtxD6zjZEo4h4G84FzZ4EvOUzbXBTY/o9//CM8Lfb7jh073A033ODLS+cwfvx43zlFffp0WLlcVCEnGor9s5OVwerIDKiv0FPuMFj61rls27bNXXfddd5G61wtfq48cfmYqwZ/P6495kRoXwoi0BQJeKHnofRJBBPlUDTsokRocKfYRW4iEopdVHSxOVea0TSIF6bDJCM25PowCg7jRvOMHov+jnKM2pfLNjvHhN5Gp2HaoehG5zXs/FxbJl2ZeMaFY2kggpMnT3ZM1BIsXyY4ubvKxYWO1FxVcWXIJbqkH5bDeIaTsXUJfVy6pJ3rGB3o6tWr/V2TlZktI3/maCT4vtr1pwkRSPQNU1HRgzMXJaLDhYg7A0Hhey6hzzdittEfaeYSolBsco2mwzoP45ow2fHQjVDMiN7sM9ty2WCCax1haAcizPwAnQCibRPHZlddW0Qad82gQYMyk9EvvviiFz3LFyEsxCVkZbA6srxziS7HwnIYz2KE3kb0uVxLcXmSL22LOZdPP/3U3znCjQ9iryACTYlA2YUe2LgpEPlw9BWKiE0UXqqP3ny3Uf84Npw7d85/+B4KE379MJiwhD76Yuwzn3fUBkTJJhytUwjtoGOwiWM41eWnxz3z17/+1fv1oyPm+fPne9a4oOgA8NnbyheORUPU1ZO00Iedq3UUZmPUR3/ixAm/nJT5jLDTCvmyEun06dOWhLYikHoCFSH0UMZtE/qJQ6EP3TsIpa26+fjjj70vNrrqxoQ3+t+369ev9ytbEEqEk1U0BOYK+P3000/75YqhwCKo3333nR8dxq26Kca+0G8+adIkP3eACJEHeTHijFt1g62smmH9OGWoa3mldWzdunXLrB+HHevqOd86FFwZw4cP9/vC8hJ3xYoVjkbC/whYiONrI2/KsHDhQoue1XGaUBczooeP3fVhn62CopNiwpaymLsrnIsZMmRIxj3FfosbTtxnjNQXEUgxgYoResSGC5CLlk8o9Fzo4Tp1hP2qq67y8RAVW0dv9bRo0aIsn7SlFU2Hc+0focjTlhaGQh92PmZbKMbkGU23LvvCdfS4ZFg6amnXtY6e/Fg1UogLJ1xSiE1M8l5//fU+L36Hq13CuNgCX+Lwna0tRyX/OL50Qr169cqUxcQ35FkfoSfPqH3GyyapLS/iMpKnQyAO6+hxhTEvw2/2hyN94iuIQNoJVIzQAzpcY27ibBWAmCJM/FMP4ojYRv8z1uLSaTBqRaCIh0vEAumw7r1Pnz4ZIWNlBm4Om5wMhemjjz4q6L82i7EPW3744YdaNhT6n7HkNX36dC9cCFy+5YLR/3aFCWWHAemEweLedNNNPm3islKJFSthyMeXxxGbG45/mirkH6airiXqHlG2Ow7LO9d/xnLnAINQ6IlPXO48wn+eY4Sf6z+CLX1tRSCtBBIV+rRCVLmSIUAHEw10/nQK/B8A/w+gIAIiUJuAhL42E+2pQAK4bu677z63bNkyP0eDiayoYf4BoX/iiSey/pmuAosgk0SgbAQk9GVDr4yLIcC8AK4kRJ2t+eD5zT+FRd1LxaStuCKQdgIS+rTXcIrKh38dP7v53e3pmvjjFURABOIJSOjj2eiICIiACKSCgIQ+FdWoQoiACIhAPAEJfTwbHREBERCBVBCQ0KeiGlUIERABEYgnIKGPZ6MjIiACIpAKAhL6VFSjCiECIiAC8QQk9PFsdEQEREAEUkFAQp+KalQhREAERCCegIQ+no2OiIAIiEAqCEjoU1GNKoQIiIAIxBOQ0Mez0REREAERSAUBCX0qqlGFEAEREIF4AhL6eDY6IgIiIAKpICChT0U1qhAiIAIiEE9AQh/PRkdEQAREIBUEJPSpqEYVQgREQATiCUjo49noiAiIgAikgoCEPhXVqEKIgAiIQDwBCX08Gx0RAREQgVQQkNCnohpVCBEQARGIJyChj2ejIyIgAiKQCgIS+lRUowohAiIgAvEEJPTxbHREBERABFJBQEKfimpUIURABEQgnoCEPp6NjoiACIhAKghI6FNRjSqECIiACMQTkNDHs9ERERABEUgFAQl9KqpRhRABERCBeAIS+ng2OiICIiACqSAgoU9FNaoQIiACIhBPQEIfz0ZHREAERCAVBCT0qahGFUIEREAE4glI6OPZ6IgIiIAIpIKAhD4V1ahCiIAIiEA8AQl9PBsdEQEREIFUEJDQp6IaVQgREAERiCcgoY9noyMiIAIikAoCEvpUVKMKIQIiIALxBCT08Wx0RAREQARSQUBCn4pqVCFEQAREIJ5AqoT+5MmTjo+CCIiACIjARQKJCf3hw4fdI4884rp16+Y/PXr0cJMmTXInTpy4aE2R30jz8ccfd1u3bvVnTp061b399ttFplJY9A8++MC9/PLLhUVWLBEQARGoIAKJCn0oyoy8X3rpJTdz5sx644gKfb0TKuBECX0BkBRFBESgIgmUTeih8c0337hnn33Wu1sYLfObQCfAfn4zWh81apR7/fXXXffu3d3DDz/stmzZ4vfff//9mTsE4iLGfAikN23aNB+f8/7yl7+4hQsXut69ezvuJj788EN34cIFH3f79u1u8ODBPv0JEya4mpoav9/+kJbdiWDX559/7kaMGJFxE3366aeO8zZt2uSeeeYZN2bMGJ/WwIEDHWlbWLlypevbt68/9tZbb7mzZ8/aIW1FQAREoGQEyib00RF9PqF/6KGH3LJly9y5c+fc3LlzvajyPTqijwr95MmT3alTp9zu3bu94JPHmTNnvCAjwrt27XIHDx50Tz/9tFuxYoU7ffq0e/XVV3PeZYQj+kOHDmVcRtjBncnSpUt954N7CkFn/3vvveeGDRvmO45t27a5IUOG+Di4q5577jnf8ZSsZpWwCIiACPxKIFGhD330jLIZcSPEhHxCP27cuMzoObwLqEvoc90hkBedDGlyt4Aojx071ncAHNu8ebP/TZwwhELPncAbb7zh/v73v7t9+/a5oUOHuv379/v0cE9hF4FOhN+M6rmDmD59eibJ5cuXy+efoaEvIiACpSSQqNCbj57RLiNnc7NQwHIJPTaYW8a2dEgm1gY/FHr2rV271ncIuIOmTJni3UB0HKHQhx0K5bP0bWtuK8tDWxEQAREoBYGyCD0F2bhxoxfFAwcO+HIhhIxyCQhk6KMv5YiePMePH+9dLT7zmD9Roa+urvZzB4899lhmbiEq9OGIft68eW7WrFkxqWu3CIiACJSOQNmEnolIfNu4PwiIICNj9m/YsME98MADmcnYOKE/cuSIe/LJJ727hTQQYz6EuDsEjoUjbVwuTMTioz9//rxbv369mz9/vv/uE/r1D64XloPaBC6733nnHTdgwACHz56A0Ed99DZpS8c2aNAgPz9APnQwixYt+jV1bURABESgdATKJvQUadWqVY4RMYL9008/edHGdz98+HC/esVW3cQJPaLL8sx77rnH+9rrI/TY8cMPP3ixx6WC6IcrZQw9E7f9+vXzk6g2r4BY46s38Tehx37KEa66IQ4TyrbqhjiM+BVEQAREoNQEEhP6Uhck6fRZvcOSSjorC1HXje3XVgREQATKSUBCXw/6CDquJUbz4Vp4CX09YOoUERCBkhOQ0JccsTIQAREQgfISkNCXl79yFwEREIGSE5DQlxyxMhABERCB8hKQ0JeXv3IXAREQgZITkNCXHLEyEAEREIHyEpDQl5e/chcBERCBkhOQ0JccsTIQAREQgfISkNCXl79yFwEREIGSE0hU6EeOHOkuu+yyrE/Lli39UyCjT4sspuQ8a+aWW25xc+bMKea0BouL7bxspHnz5q5Zs2auc+fO/tk59miEBstICYmACIhAPQgkLvS84WnPnj3+QWA8uZIHeyHSffr0ccePHy+oCAg6z4yxZ8aXU+ixgQeb8WwbnmXPQ9J4BHOrVq38A9IKKpAiiYAIiEAJCXih79ChQwmzuJg0I/pQoO3I999/74Wx0Kc5VpLQ86yba665xq1bt86K4194zusKebGKggiIgAiUmwAaX1VuoQ9H5N9++20t4eQpj9jIo4cZ/YfuH0TfzucNTrw+EBcKH94cZU+aBDTPpeFVhK1bt/ZptGvXzi1evDjz9MlC0wkrjYeb8fTN8Jk3vCoQoZ84cWIYVd9FQAREoCwEvNDfeuutiWQeN6LfsWOHF98FCxZ40ezSpUvWaBjxv+666/zjhBFVBN1cQLhOTKCvuuoq/xLxH3/80b3//vte7Hm2PAF/OZ0Ao+/PPvvM4TaaPXu2/837XgmFpOMj5vmD4L/77rvupptu8i8xzxNVh0RABEQgEQJofFU5hR6/PC/nuOGGGxyCT2AkzIiYkbH97tWrl+OtToQ41w2PDbYJUEbaPFuezoVA2m3atMl6ITdxOadr167u2LFjGaHPl45PLMcf/PN0Itxt/Pa3v/XPx88RTbuaEAFeNvPaa6/l/RTqrmxC2FTUEhDwQo87JImQa9UNwtipUyf/DlazAX837hW25gZB3C3ECX0Yh7jkZ0LPqB2h37lzpyXjt/jYr7/+ej+RaiP6fOlknRz8YCTP3cbu3bv9i8dJkwtdoWkTyCf2Evmm3TaSLD0aX5Wk0JvLBVHlw0jaRuFWcEbujOCZzETscYMwYrZQH6HnHMpJnmEgXfazvRShD9PEncSk8+jRo2uVLYyn702DQC6xl8g3jbqvlFJ6oWdSMonA6DrXqptcec+YMcO7b3Cj8Eo+XDEW6iP0jOhvvvlmt3fvXkvGb3lXLP7/+go9os5InvfAhqGYsobn6Xs6CYRiL5FPZx1XcqnQ+ERH9IUKPcKLAF9xxRX+Zd0hRISeNzzV1NT43YWMxIvx0ZN+GEIXULif73QguJlsfoF9NqJn1Y+CCBgBxF4ibzS0TZKAH9HzJ4lQzCiXETwj+aiIYierc5j4xL9+9OjRglwucatu+M/czz//3Be/kA4jyonVO6wS4h++tm3blvmHKTqpcG199Dz9FgEREIGkCFSs0ANg5syZtdw27EeQEVYmcufNm1eQ0HNeoevoixnRky5iP2zYsMwjEFjFs3btWg4piIAIiEDZCSQq9MWU1iZkGb0riIAIiIAI1J9AxQk9k5r8w9OUKVP8aph9+/bVv3Q6UwREQAREwGtpYpOxhfBmBUvHjh0ds8SrV68u5BTFEQEREAERyEOg4kb0eWzVIREQAREQgXoQkNDXA5pOEQEREIHGREBC35hqS7aKgAiIQD0ISOjrAU2niIAIiEBjIpCY0Hfr1s3pIwZqA8W1gcYkJrK1cgkkJvSVi0CWiYAIiEC6CUjo012/Kp0IiIAIVN46etWJCIiACIhAwxLQiL5heSo1ERABEag4AhL6iqsSGSQCIiACDUtAQt+wPJWaCIiACFQcAQl9xVWJDBIBERCBhiUgoW9YnkpNBERABCqOgIS+4qpEBomACIhAwxKQ0DcsT6UmAiIgAhVHQEJfcVUig0RABESgYQlI6BuWp1ITAREQgYojIKGvuCqRQSIgAiLQsAQk9A3LU6mJgAiIQMURkNBXXJXIIBEQARFoWAIS+oblqdREQAREoOIISOgrrkpkkAiIgAg0LAEJfcPyVGoiIAIiUHEEJPQVVyUySAREQAQaloCEvmF5KjUREAERqDgCEvqKqxIZJAIiIAINSyAxoT98+LB7/PHH3datW7NK8MEHHzg+lxJIc9y4ce7kyZOXkkxFnwu/Z5991rFtiBBXHw2RttIQARGoLAIS+sqqj1hrJPSxaHRABESgDgIVJfQ1NTVu0qRJrnv37q53797uk08+cRcuXPB3Ac8884wbNWqUGzFihB+5r1y50j3wwAPuvvvu8+eMHTvWHT161LFdu3atL/b69ev9KLi6utr/nj59uvv00099mqRNHuRFnuTNHQHn87tfv34+39CmgQMHuu3bt9dCGsYJ7SbikSNHvN3k07dvX4fdhFOnTrlXX321Vlk5Rhzics5bb73lzp4960fy4YgeOwYPHuzjTJgwIdb+gwcPuuHDh/t4lj93QPfff7/r1q2b/3zzzTfuzJkzPq8ePXp4Ln/72998vrmY+ALojwiIQKMhUFFC/84777iXX37Ziw4iPWTIELdv3z4vuI888ogXQIR/9+7dXuSIgwjOmzcv0wHgBuI34d133/WdAcKGYI0ZM8antXHjRu9G+vHHH92JEyccnciXX37p4yCms2fP9jacO3fOvf766+7NN990p0+fdsuWLXNPP/20O378eFYFx9nN+YgwdmDnhg0bfL779+93nDN58mQv+Hv37nVPPvmkw65t27b5cmMztj333HNu4cKFWUKPeGPHihUrvF10GDNnzsxpP/nPnTvXYcuSJUvcsGHDHB1f1HUDNzpR8iR94i1durRWmlkF1w8REIFGQSBRoUesbRQZbs1HjwAxsiSEwhz1wS9fvtyNHz/eixdxw+OM5vHXHzt2zIvsjBkz/CieDoPRuuVho3zOp2PABvLkXNIjMBofOnSo27Vrl/8d2uR3/PrH0uRnGAfB5HzyJtBJIaR0FNyd0FFZsDQ+/PBDx52HBcpK5xe6bhjxUxZjtXnzZv/70KFDWfZbfnQyBBvdk1Yo9NiMyNudEHHp+GCMvSETs0tbERCBxkMgUaGvazJ2z549GTcDHQHuBUQ3FHLQIsqIn4XwOGLHKHjNmjVuypQpXkxfeeUVh3uC34gfbhM6ANw+1uHkEnrSDV0cFpe0wpDPbsqMqIYhFNlwP98pl+VjW+4yuPsw1w222jHb0oliR1SUf/jhB/foo4961w1xiRcV+lz2UEbyi3YeUXv1WwREoPIJeKH/wx/+UHJLc4kJmSJafHAtTJw40Y+uzSdtHUMo5JyTb0RPOrhEEHXSZaTM6Jd9jFIJuCToDPDpExBX4kZH9NERuY8c+ZPPbsqMCyTXiP7555/POaLn7mLWrFmRXFzWiD5afosctZ+5A8Qal8358+d9h2kdT1gfnBe9w9CI3qhqKwKNnwAaX3XbbbeVvCShsISZmdDjhkCQv/jiCy9KuCcYfSLyUaHHx/3YY495oYz66EmbCVdG4uYawcfORKS5YDiOW4I8TcxzCT0ijo8bVwpx6RiYHLUOgrzy2W3nm4+eciC0zDGEPnrKg4tn3bp13k8/aNAgt2nTJs8BUV+0aFGW0BOfiVh89Ag45Zw/f77v1MIRPe4rfPnff/+9j0e5mVCmLnBLMS+A24dA+eN89GGaPrL+iIAINCoCaHxFCD3UWEmCELHa5MUXX/RChOBHhZ647I+uumFkSkD4EDiEjoDv2Vbr8JuRLgJOPnQY3EkwoRkdERMXQXzppZd83OiKGp94HrvtfEbLha66wbXEpK+tumHFDJ0R4myuG9LFJYPY445hC7tc9hsnVtNMnTrVT/QSl3yYwL3nnns8SzosOrFcq24k9FbT2opA4ySQmNA3TjyyWgREQAQaPwEJfeOvQ5VABERABPISkNDnxaODIiACItD4CUjoG38dqgRNmMAbb5xxf/5ztfuv/zrmqqoO+w/f2ff++z83YTIqekhAQh/S0HcRaCQE3nvvZ/ef/3k0I+4m8tEtcYir0LQJSOibdv2r9I2QQN++NRmB/4//OOpeeOG0W7XqXKYkfGcfx0z4+/WryRzXl6ZHQELf9OpcJW7EBEKRR8zrCsQxsedchaZJQELfNOtdpW6EBHDBmGiHI/jt28+7W2454V05uGr4zj4LxLXz5MYxKk1rK6FvWvWt0jZiAuaKCUfyCPq///uRjJCboLMvFHsb2dMRKDQ9AhL6plfnKnEjJMDqGkQcsQ/Df//3Cb//uuuOe2FH3PlOXI6FwToKjepDKk3je6JCP3LkSNe6dWu3ZcuWWnR5pgtPWONpiQoiIALZBO6+u9qLdziaJ8a//dsvo/lw9M53hD46erdRPWkpNC0CiQv9ZZdd5h+by7NVwiChD2nouwhkE2je/Jd18qFvPjvGxV8m9HQCYTBfPevsFZoWgcSF/oorrnB8eGtSGCT0IQ19F4FsAuZ7z95b+9eRIxcy/zz11FO/POQvjFVoOuE5+t74CSQu9L169fJPpezYsWPmOe1gzCX0PM73wQcfdJdffrlr3ry5f7Y7T3G0MGfOHO/u4dHGXbp0cdwtdOjQwa1evdqi+G2YTsuWLf3rAaN3FFkn6IcIVBiBQgSakTzuGuLGuWcKSafCii5zGoBA4kLP43d57HDbtm39o4jtNXdRod+xY4e74YYb/GOEd+7c6Z+bzqN++/fv75+7TtkR+mbNmrmuXbv6N0rxvtU+ffp40efxwgSe3X7HHXdk0vn666/9PAHPmOdRvQoi0BgIFOK6sYnZOJE31w1pKTQtAmURep6bvmDBAteiRQv/LHSQh0KPAPO8+J49e2a9iBvxZzKXcwkIPb/Zb2HVqlXu+uuvz7xQg9cIMto34SceL+lg5M9z3hVEoFQEeNn7a6+9lvfDS2UKCYg3o/HoZGx4ro3Wcd/kCpqMzUWlaewrm1jBLscAABiNSURBVNAj9ozucc3wur9Q6HkxCC8V4YUgYcDdwks2WL1DMNdNuFKHNyaxeoet5cGbq8LAm5xuuummTGcQHtN3EWhIAvnEvlCRxx5bXhldSVOMrVpeWQytdMUtm9CDkVfctWrVys2dOzdL6BFuxBohjwZEvlChP378uLv77ru97x7/ffjB5cOr+BREoNQEcol9MSJv9plQx43qbURv8cOtjeaj6/DDOPqeXgJlFXpcNLy0G1/822+/nVlHbyP6adOmZZE/ffq099EXKvQ2oucVenQe0Y8mZLPw6kcJCYRiXx+Rx7S4RyCY2XFCb755juufpYxW09qWVehBfeDAAe9Dv/LKKzNCX4yPPvpPVqHrxtIx95BVLRPA9j5Z26etCJSaAGJfX5E328KHmo0fr4eaGRdt8xP4zW/+dzIvB8cMRuL45Rlph2Hx4sUuFHqOxa26YVUNLhlCXT564vBfuEzY8hJwVu+w1JKXXfNS7XCppk9Qf0SgERAIxR6fPYIf/iMV39lnSy0ZyevJlY2gYktoYvv2t5Rf6BlhDx06NDOit/KG69/zraOPm4zNlQ5r8gcNGuQF345rKwKNjQAuGPPZm8sm15Y4ctc0ttpteHsTdd00vPlKUQSaNgFEnKWXts4esec7+yTwTbtthKWX0Ic09F0EREAEUkhAQp/CSlWRREAERCAkIKEPaei7CIiACKSQgIQ+hZWqIomACIhASOCPf2yf3KqbMGN9FwEREAERSIbAb/7X/5HQJ4NauYiACIhAeQgk5rrhH5T0EQO1geLaQHlkQbmmjUBiQp82cCqPCIiACDQWAhL6xlJTslMEREAE6klAQl9PcDpNBERABBoLAQl9Y6kp2SkCIiAC9SQgoa8nOJ0mAiIgAo2FgIS+sdSU7BQBERCBehKQ0NcTnE4TAREQgcZCQELfWGpKdoqACIhAPQkkJvSffPKJu/nmm7Ne0B2+rLuu79dcc40jDQUREAEREIHiCCQm9Ah1XWJe13E6CgUREAEREIHiCCQm9CbixZl3Mfalnn8xpfp9O3XqlFu9erVjm3TgHbu8a3f58uWJZc3rGXnxuuXJ+3lzve83MYPKkBEvmueRDeGrKstgRr2z3L9/v1u/fr27cOFCvdMo9MS6WG3fvt3xqfTAe61p66UItCPaE6ySDqkV+rVr17quXbu6Zs2aOd43O2bMmEt6Gfi2bdtcu3bt3Jo1a3wdIYAIYRIikHah5+Li01ChoeqmLvFqKHtLlc7777/vunfv7o4fP97gWUTrrC5W48ePd0888YQ7c+ZMg9uSL8Fi24KEPh/NAo5d6oi8mPNXrlzpcBXNnj3bHThwwO3cudM99thjrk+fPg3W6IttQAUgio0ioY9Fk/NAQ9VNXeKVM/MmsrNYoS8XlmLbgoT+EmuqGKHOlVWh5zNiGDhwoJs+fXrWLeuRI0dcly5d3IIFC3zy3J4NGTLEjRgxwl1++eWuVatW7sMPP3Rff/21u/HGG/2dwIMPPug7Ck7gomcEz5bGYPawpTFFw9mzZ93cuXN9utxV9O7d2+3evdtH41Z6xYoVrlOnTj4dtnROFjiOLdjE3cjzzz/vR2ZhPsS38ynXxo0b7fSsLWktXrzYlwlbicvdjgU6wkcffTTDYP78+e78+fP+TqVQ101d5YlePMbym2++8UyNpd0hcfyuu+5yb7zxhmdA/YwdOzbjNqPuSNNC6Gaqq25WrVrl7rjjDnfw4EF/OoMA8l23bp3/feLECdejRw+3cOFCX9fYQZuhTWAH7aW6utqy9vWWqx7sNh2eMKcNhO0pk8CvX7Zu3Zq5A23durWzeuAw7sKXX37ZtWzZ0tvQr18/3y6trYeuhr179/ry4bJhv7nbCrEHG8xW2it3wXa+2Wus4+osjhX1EtYZ7Z87ZNJhy3VHO4oGyvDUU0+5qVOn+mvBrlOLS1v96KOPMtdsz549HXffhLi2ENfm7ZyXXnrJ1xV1Rr1jqwXujl544QVvC9cmdyphe8h33OqA9k3gmmXekevTymP5NPQ2da6b6IUbAps4caK/UIFKA+KCooGdPn3avffee77y+vfv7/bt2+eF4OGHH3acQzBxskqqa6SAyHPR7Nq1y9+uvvnmm/6Ogkbx/fff+wpetmyZo0P44osvvC3sJyDiNAAaGLZx8dCoTOg3bNjgOnbs6MWJi53juKl++uknf374h3NICyE7d+6c+/jjj30HQRmxhQt51qxZ3sYtW7Z4kVi6dGlRQl9XebjgQjGKsoyKAMevu+4631kjvAgQ5Z0xY4YvGmmFomHiY3zy1Q0CDysTdgQdsTH7aD8cZ4sd3Bki7seOHXM7duzwdsCbkK8ezCbE3drTAw88kGlPYR0hDrhYrB6w7aabbnLffvutj/bKK6842iKDFeqbTm/48OG+7WBLKMaLFi3KtDPKZMfqsoe0KTftHXs2bdrky2rnh/byPVed5WMVxuea6NChg2/31v7btm3r+UbzoQy0fcSca+Gzzz5zxKV+CNQfadGxwQaG7du3d3v27PHHo20hX5vnBOxEF+zae/vtt/1AgDrE1qFDh/qOB158qBf2cayu46HQM3+CPrzzzjslF3nK5YW+RYsWHkop/9gIoL55FHp+VETC/MKGz3cuYOtJ6eVpIIichTB+NN1oA7Jz2IajQtvPxTNz5kzHiGv06NFuwoQJmbyxgd/sZ4QSPV5TU+MQCfIkLsenTZtmSfv8GMmEIw8O0vAYDYVxuRgoF+JJepyHvRaIi5CYMBCHELKwuGzNnrjycJyLh/MtRFmGIkAcjjOSpk4sMMJlpI2tpMU5FqK25qsbYzJv3ryM7Yim+Y85lxEz7jLsuPPOO32dWV7kCx8rd8gW26wesIlzrUPhfOxmIIFghcHiMtlPwEbmghAz8qGTwR4L2EjHh9AQB8GgEzKbwg7RhNryiLPH0rQ7HfKKq3OO5aqzOFbR+HDt3LlzRoxpk7TdMG8rKzbQhmFCoBwIO/HNpUnbsEBa3NFzHiHaFvgd1+aJT7noLCzYtUyHit1wh7UF6/w5VtdxbGcylnqmHYwbNy5TLkuvVFs0vorboVKHQoU6zo5Czwe2uViiaYUNl+/5xIJzw/jRdKMNKMyLCkWocrlTrHEyEgmDjcw4l4vTRo3EsXPI074bj3DL8TBY3LDzCo9TvvB8+w4X7CjEdWN5xJWH46RHXhaiLDke1gXHo6tdYAlT7Kqr7vLVDTbAFvEgLUSdOyg6UjphhNvEO5cdZquV25iFW/In7egKi7A9GQu2iBh54prBriVLlmTcVByno588ebI/bvlQN+SBsA0ePNiXCeFHxBjdEsL86rInjOtPjpxv+2xrHOx3PlbECePDjs712muvdaNGjfL8TcgtPdvmq2vKFO1MOY+7EmtP0bZAesYw3Fp8tsSxQOfJgJB9pGWDDTtOJ8ydEMfqOo69tGHaHPVndx2WVim3aHzV73//+1Lm4dM2qPXNqNDzGeEAMRy5WJ5R141VLsepBM6jsixQuTYiiooT8exis/i2tQotRugZYZIX5xYi9GFHYPlGtyZG+YQekUAsoiHKI2QRxrU8okJv5eF49OKJsuR4WBe5RIP65KLGLmwJ40dtzVc32E769957rxfUp59+2nee3H5//vnnbtCgQQ4/vsWLdjhmq5U7rh6wqVCh95k5511vpIcbh1EryxERQO4gcBHYiDdaPuu4mPPAVWQ+47DO6rInjGv25Npnx4yD/c5VZ2Gc8DvnIKDMWbFggjmO++67z9etpWfbfHVNmXIJPbzIjxBlRXpxbZ74nEccC3UJPZ0ro3zy4RPtCMLj2Eu9kv6kSZMSHdGj8VU33HCDlatk20KFOs6AQs+3W7foZCyuE0Y7dmHma0BmA3HqI/R2uxeKHxNq3333nb8Nj7pmaEyFum648BkNmY/WbM01ImJf1HXDPm4dEQ38uXRW+B8t4DrCHhpl2PGFLCwuW+LmKw/HuXjC2+H6CD0s7SLCltDtFrU1enGH9vKd+nnooYdcr169Mhc16SM299xzT8ZVk0+86qoHbCpU6KkLXBHW4VobppzWoVAmC3Tc4SCDwQ15Res6rLO67CF/RqYIk4XwfNtn26hw52PFOWF87MU1ZW2WPHE/hWW0fLCBcy2EdW1sinHd5GvzZmfYVu1aRjcoY0O4bkgHtyQdetwgzMrbUFs0vorJjVKHQoU6zo5izudWPNfyyrAh52tAZkPY0KkcLi62BEbrTHDwO+pz5Xhdk7GkxcVFY6eyqYi4yVhGx+FkrJWPiVUmWPG3s3Q09B1aGbh44iZjucBggmjiHqAz5DsXTnhBkVbIwtK2LXbnKw/nIkTcqpIneVA/xpILa8CAAT5/eLDfJmPpIJm8Y6UM6RAoE5OV1AEXIp06KyRMKOqqG+uc8FvanR/i06ZNm6zRHnZgNywshIKVrx7qElZLjy31Bj/qk44WWygvvxF95g+446BDYJIUUSS+2QUzjnN7buUh3bDO6rKHern77rs9y0ImY3PVWT5WUW60SQY+lJf2Q/u3/1EJ2VCGOKEnHh00dwRcA7B69913/ajZ3CLRtpCvzZMeedU1GUv7hRFpsWItOhkbdzxaB6y2oS7DgVZY9ob8jsZXsbyp1KEYoc5lS7Hn1/UPU3U1IGwILxQuei4uEydGE4yqERiEOBq4+Gx5JcvyaBBWoQgNq31seRkNFdFnP4FtvuWV0fNZAha3RIu4trwSW7mrYXWNBWzCZ4iNdCb4ghFXGiXlNfEMWdi5to3aEy0ProRnnnnGs+Iieu655/zEt7HERcE5iDtL49jPZB22IF7YhtsNuwiwZbkd+/Frkx4MzNa66oY0EAg6OXysBBsdUk4L2JFPvKLlDushelGTZj6GYXulzEzcU04Coz9cMtQfwsAxeDGnYCG847F9YX6F2INYkj75sLwS0bM7WkvTtrnqLB+rUOitTVr7hxvPsWJ/NFCGfEJPR8HAhHaVq33nagtxbZ68yStcXomNNknOcRsMca3wYakl+yzkOx6tA+ugraOwNEqxpRxVXNClDsUKddSeSz0/mp5+Vy6BXAJbudamxzLrWKxETBCHImv7tW18BND4qltvvbXkll+qUF/q+SUvoDJoMAIS+gZDWXBCuIWYt+DOEncgLiDcY0n5kAs2VBHrRQCN14i+Xuh0UqkISOhLRTZ/uqH7CFcILhFcIwqNn4Af0SfhumHyzUbl9d0ywlAQAREQAREojkBiQs9kC0JdX5Gno9CLR4qrXMUWAREQAQgkJvTCLQIiIAIiUB4CEvrycFeuIiACIpAYAQl9YqiVkQiIgAiUh4CEvjzclasIiIAIJEZAQp8YamUkAiIgAuUhIKEvD3flKgIiIAKJEZDQJ4ZaGYmACIhAeQhI6MvDXbmKgAiIQGIEJPSJoVZGIiACIlAeAhL68nBXriIgAiKQGAEJfWKolZEIiIAIlIeAhL483JWrCIiACCRGQEKfGGplJAIiIALlISChLw935SoCIiACiRGQ0CeGWhmJgAiIQHkISOjLw125ioAIiEBiBCT0iaFWRiIgAiJQHgIS+vJwV64iIAIikBgBCX1iqJWRCIiACJSHgIS+PNyVqwiIgAgkRkBCnxhqZSQCIiAC5SEgoS8Pd+UqAiIgAokRkNAnhloZiYAIiEB5CEjoy8NduYqACIhAYgQk9ImhVkYiIAIiUB4CEvrycFeuIiACIpAYAQl9YqiVkQiIgAiUh4CEvjzclasIiIAIJEZAQp8YamUkAiIgAuUhIKEvD3flKgIiIAKJEZDQJ4ZaGYmACIhAeQhI6MvDXbmKgAiIQGIEJPSJoVZGIiACIlAeAhL68nBXriIgAiKQGAEJfWKolZEIiIAIlIeAhL483JWrCIiACCRGwAv9bbfdlliGykgEREAERCBZAmh8lYQ+WejKTQREQASSJCChT5K28hIBERCBMhCQ0JcBurIUgXwEjh8/7saPH+9atmzpLrvsMteuXTv3xRdfuPPnz9c6bf78+T4O2zAcOnTI4Zdt27at27NnT+bQyZMnXd++ff2H74QLFy64FStWuM6dO7tmzZq55s2bu2HDhrkDBw5kzhs5cqTPB3vCD2nt3r3b50WcxhJ+PHLBPTbnlPvDyGrX+tlqd+sL1e7NL3925yKIa84413vaSffH56vd2p0XD/7165/d9c9Wu4n/OJNV5JNnnLv/jYvxB8465dMnj/Bz72sn3bFf8GedX6ofEvpSkVW6IlAPAtXV1a5///5e5KdNm+YWLlzoBgwY4K644go3d+7crBRNtBFeBNeEm0gm9BwbPXq0O3v2rD/XzgnjL1261It7z549fX5vvfWW+93vfue6dOmSEXtEvHXr1u6jjz5yS5YsyXzWrFnj9u/f36iEHoG97/WT7ubR1W7cR6fdu1//7B5565RrM6LavfxZtnB/s/Wcj4dIh6K+69AFd9v4GhcV7HW7z7t2Y6pdvxkn3c/nnEPo6SToRN775uJn0f+c9cezKrSEPyT0JYSrpEWgWAILFizwo2oE3gLi36tXL9e1a1d37Ngx2+3Wr1/vWrVq5R555BG/5beFUOgZoS9fvtwfigo96ZEuIs+dhIVFixZ5O7CHgNBzh0C60WB5NZYRvYn3qL+dzhQF8e/+6kl318s17tCJC5n9Yxacdu3HVrs7J9W4P0+pcYerfznG36fePeU7AdKzMP3LM36kz4ifgNDTIew5fDFNi5vkVkKfJG3lJQJ5COBCGTFihGvfvn1mJG3RN2zY4MUa0bcwceJEP+resmWL69Chg+O3BRPfgQMHehFHzI8cOeJH/aHrZuPGjb6TmDVrlp3qt4j+V1995UibkCah37r/vHfV3P5ijVv9r4vumCwAzrn9xy64zhNqvKDP/+6s+7/PVbvP1v1yZ0TcT9ae9XcBU7/45S7A3Da4gciDIKGPUtVvEWjiBGy0HTdyDvEg2rhWJkyY4H33bPnNfoIJPQK9cuVK75qZPn26q6mpyfLRM9LHvTNnzpww+VrfSSf0zfP9mmuucZs3b87Kq9aJFbrj/W9/9v55/Ox3vFTjXTZHarJH3Qg5Pny2+PT/36+ib7GsI8Anj8hv2Xfe3TKu2g2efcpZnFw+elxG4V1AEog0ok+CsvIQgQIIFCP0uFauvvpqt27dOp/yqlWrvJiznxAKPf75F1980Qsz8cIRfTFCH/XRM+Jn5B/mVUAxKyYKwo5PHqFH8HHRrPjVDYN/Hb996MoZOveUvxOw0ToFwf2DTx7f/JyvfvYjfDoGC7l89PNXnnUHAveQxS3lVkJfSrpKWwSKIFCo6wbhHj58eK0RNqNs9nM8Kr779u1zHTt29G6cbt26ZSZvm6LrJleV/HPTOT9paqNzc++EK2X4Todg/nfSWbLhnB/1475hApZRP6N/C3LdGAltRUAEMgSY/Lzyyivd4sWLM/tspG+TsTt27PArYEaNGpVZ/cJKGPz7bdq0cTt37qwl9CTGBC/LJ+kQbNWNTcY++OCDLvT/M9InbhonY23C9MOVF0feTMayggafPC4ZhPvGUdVu8qdnMqtlZn/1sx/9W2cAUyZnmaTlPO4IGPWHQUIf0tB3ERABTwBXSJ8+fbybZebMmTmXV7JmvkWLFhm3jaHDjcN+jkdH9MQ5c+aMe/TRR7OEnv2ff/65u/zyy93DDz98Scsr6SzCpZd8P3jwoJlXMdttP513nV6qcW2fr3Yv/P20F3LW1DNaf+Kvp9zRk7+snQ/dNmY8rpromnpW5jDax5/PCD8MuVw3LLPU8sqQkr6LQBMkcPjwYTdmzBjvc2f0Hf7DlC217NGjhztx4kQWHRudsxSTUT2TutElj6yiwdduI3oSwGXEWvpOnTr5TqC+/zCFrdGPLevMMrQCfvzrYPY/TCHez80/7Y6fcu6fm8/50Xy4/NJMZtUN6+0Rdwu2XDNcfmnHEPqo+4ff0fX3Fr9UW/noS0VW6YqACIhAhRCQ0FdIRcgMERABESgVAQl9qcgqXREQARGoEAIS+gqpCJkhAiIgAqUiIKEvFVmlKwIiIAIVQkBCXyEVITNEQAREoFQEJPSlIqt0RUAERKBCCEjoK6QiZIYIiIAIlIqAhL5UZJWuCIiACFQIAQl9hVSEzBABERCBUhGQ0JeKrNIVAREQgQohIKGvkIqQGSIgAiJQKgIS+lKRVboiIAIiUCEEJPQVUhEyQwREQARKRUBCXyqySlcEREAEKoSAF3peMaYgAiIgAiKQTgJofJWEPp2Vq1KJgAiIAAQk9GoHIiACIpByAl7ob7/99pQXU8UTAREQgaZLAI2v4k9NTU3TpaCSi4AIiEBKCaDtGaHn5cAKIiACIiAC6SKAtnuh5+3v9957r1u0aJE7cuRIukqp0oiACIhAEySAlqPpaDsa//8BsyRligYZfnMAAAAASUVORK5CYII=)\n",
        "\n",
        "For AI training we might need some very good hardware as it can take a lot of time to perform training. Let us see how we can use a GPU in Colab\n",
        "\n",
        "Runtime > Change Runtime Type > GPU\n",
        "\n",
        "Your runtime will restart after doing so, and as simple as this you are now working on a GPU!"
      ]
    },
    {
      "cell_type": "markdown",
      "metadata": {
        "id": "K-M9i2QNJ-RZ",
        "colab_type": "text"
      },
      "source": [
        "## Congratulations!"
      ]
    },
    {
      "cell_type": "markdown",
      "metadata": {
        "id": "-xB1DHIaJwMX",
        "colab_type": "text"
      },
      "source": [
        "Congratulations for making so far! You just learnt about basics of Python and you are all prepared for doing this Week's excercise"
      ]
    }
  ]
}