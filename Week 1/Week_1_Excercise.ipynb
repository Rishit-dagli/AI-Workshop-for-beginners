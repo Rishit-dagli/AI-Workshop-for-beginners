{
  "nbformat": 4,
  "nbformat_minor": 0,
  "metadata": {
    "colab": {
      "name": "Week 1 Excercise.ipynb",
      "provenance": [],
      "authorship_tag": "ABX9TyM8rU41llOwoviWw37PzxPl",
      "include_colab_link": true
    },
    "kernelspec": {
      "name": "python3",
      "display_name": "Python 3"
    }
  },
  "cells": [
    {
      "cell_type": "markdown",
      "metadata": {
        "id": "view-in-github",
        "colab_type": "text"
      },
      "source": [
        "<a href=\"https://colab.research.google.com/github/Rishit-dagli/AI-Workshop-for-beginners/blob/master/Week%201/Week_1_Excercise.ipynb\" target=\"_parent\"><img src=\"https://colab.research.google.com/assets/colab-badge.svg\" alt=\"Open In Colab\"/></a>"
      ]
    },
    {
      "cell_type": "markdown",
      "metadata": {
        "id": "CxgeWxvGbz80",
        "colab_type": "text"
      },
      "source": [
        "##### Copyright 2020 Rishit Dagli"
      ]
    },
    {
      "cell_type": "code",
      "metadata": {
        "id": "yf1R4EU8bq50",
        "colab_type": "code",
        "colab": {}
      },
      "source": [
        "#@title Licensed under the Apache License, Version 2.0 (the \"License\");\n",
        "# you may not use this file except in compliance with the License.\n",
        "# You may obtain a copy of the License at\n",
        "#\n",
        "# https://www.apache.org/licenses/LICENSE-2.0\n",
        "#\n",
        "# Unless required by applicable law or agreed to in writing, software\n",
        "# distributed under the License is distributed on an \"AS IS\" BASIS,\n",
        "# WITHOUT WARRANTIES OR CONDITIONS OF ANY KIND, either express or implied.\n",
        "# See the License for the specific language governing permissions and\n",
        "# limitations under the License."
      ],
      "execution_count": 0,
      "outputs": []
    },
    {
      "cell_type": "markdown",
      "metadata": {
        "id": "0bi6Y25bKfZw",
        "colab_type": "text"
      },
      "source": [
        "<h1> Python for Beginners Excercise</h1>\n",
        "\n",
        "You will now apply everything you learnt in this weeks lab and use it to complete a few tasks"
      ]
    },
    {
      "cell_type": "markdown",
      "metadata": {
        "id": "dsD0DQAgKsp-",
        "colab_type": "text"
      },
      "source": [
        "## Task 1: Imports"
      ]
    },
    {
      "cell_type": "markdown",
      "metadata": {
        "id": "G7I5VmbYKvw9",
        "colab_type": "text"
      },
      "source": [
        "<h3> Task 1.1 </h3>\n",
        "\n",
        "You need to import a module called `pandas` under the alias name `pd`"
      ]
    },
    {
      "cell_type": "code",
      "metadata": {
        "id": "ygghlsITKUrP",
        "colab_type": "code",
        "colab": {}
      },
      "source": [
        "# START CODE HERE (2 lines)\n",
        "\n",
        "# END CODE HERE"
      ],
      "execution_count": 0,
      "outputs": []
    },
    {
      "cell_type": "code",
      "metadata": {
        "id": "eekZI7jqLNiJ",
        "colab_type": "code",
        "colab": {}
      },
      "source": [
        "pd.__version__"
      ],
      "execution_count": 0,
      "outputs": []
    },
    {
      "cell_type": "markdown",
      "metadata": {
        "id": "mpZAJhKZLUua",
        "colab_type": "text"
      },
      "source": [
        "If you have written the code properly for the above excercise you should see something like `1.3.0` or if you are doing this course at a later date you might see some other number but you should not get any error"
      ]
    },
    {
      "cell_type": "markdown",
      "metadata": {
        "id": "2h8Mu7oALlKq",
        "colab_type": "text"
      },
      "source": [
        "<h3>Task 1.2</h3>\n",
        "\n",
        "From the library `matplotlib` import the class `pyplot`"
      ]
    },
    {
      "cell_type": "code",
      "metadata": {
        "id": "QAC32ScjL7_y",
        "colab_type": "code",
        "colab": {}
      },
      "source": [
        "# START CODE HERE (1 line)\n",
        "\n",
        "# END CODE HERE"
      ],
      "execution_count": 0,
      "outputs": []
    },
    {
      "cell_type": "code",
      "metadata": {
        "id": "wsYAt69uMV-C",
        "colab_type": "code",
        "colab": {}
      },
      "source": [
        "pyplot"
      ],
      "execution_count": 0,
      "outputs": []
    },
    {
      "cell_type": "markdown",
      "metadata": {
        "id": "hvVGs_CEMNdc",
        "colab_type": "text"
      },
      "source": [
        "If you have written the code properly for the above excercise you should see something like this-\n",
        "\n",
        "```\n",
        "<module 'matplotlib.pyplot' from '/usr/local/lib/python3.6/dist-packages/matplotlib/pyplot.py'>\n",
        "```"
      ]
    },
    {
      "cell_type": "markdown",
      "metadata": {
        "id": "NwrtUukNf2At",
        "colab_type": "text"
      },
      "source": [
        "## Task 2: Functions\n",
        "\n",
        "Define a function called `test()` which takes two parameters called `x1` and `x2` and returns $(x_1)^4 + (x_2)^4$.\n",
        "\n",
        "Hint: you can use a code like this to compute raised to 3 like this `x**3`"
      ]
    },
    {
      "cell_type": "code",
      "metadata": {
        "id": "PpnSjwgriHTB",
        "colab_type": "code",
        "colab": {}
      },
      "source": [
        "def test(x1, x2):\n",
        "  # START CODE HERE (2 lines)\n",
        "\n",
        "  # END CODE HERE"
      ],
      "execution_count": 0,
      "outputs": []
    },
    {
      "cell_type": "code",
      "metadata": {
        "id": "sdTmtsGMiFd0",
        "colab_type": "code",
        "colab": {}
      },
      "source": [
        "test(3, 4)"
      ],
      "execution_count": 0,
      "outputs": []
    },
    {
      "cell_type": "markdown",
      "metadata": {
        "id": "YWLMyuHBiLiO",
        "colab_type": "text"
      },
      "source": [
        "If you wrote the code write you should receive the output\n",
        "```\n",
        "337\n",
        "```"
      ]
    },
    {
      "cell_type": "markdown",
      "metadata": {
        "id": "tVGQCaPtMcWO",
        "colab_type": "text"
      },
      "source": [
        "## Task 3: Use a GPU"
      ]
    },
    {
      "cell_type": "markdown",
      "metadata": {
        "id": "M9hyiGd9MfGg",
        "colab_type": "text"
      },
      "source": [
        "Now you will use a GPU in Colab, run the cell below this"
      ]
    },
    {
      "cell_type": "code",
      "metadata": {
        "id": "S3IivzxdMYAc",
        "colab_type": "code",
        "colab": {}
      },
      "source": [
        "import tensorflow as tf\n",
        "tf.test.is_gpu_available()"
      ],
      "execution_count": 0,
      "outputs": []
    },
    {
      "cell_type": "markdown",
      "metadata": {
        "id": "awnDyq4MMs3k",
        "colab_type": "text"
      },
      "source": [
        "If you performed the tasks correctly you will receive the output\n",
        "\n",
        "```\n",
        "True\n",
        "```\n",
        "\n",
        "If you receive `False` double check what you did"
      ]
    },
    {
      "cell_type": "markdown",
      "metadata": {
        "id": "X3o2gHWVl9_6",
        "colab_type": "text"
      },
      "source": [
        "## Task 4: Plotting"
      ]
    },
    {
      "cell_type": "markdown",
      "metadata": {
        "id": "hQT7RGjYpCGS",
        "colab_type": "text"
      },
      "source": [
        "<h3>Task 4.1</h3>"
      ]
    },
    {
      "cell_type": "markdown",
      "metadata": {
        "id": "DUY8oT2UmM-m",
        "colab_type": "text"
      },
      "source": [
        "The code for `x` and `y` is written for you, you just need to create a scatter plot for it. Give it a title \"Sine Graph\", set the `x` label to \"Xs\" and `y` label to \"Ys\"\n",
        "\n",
        "Hint: use `plt.plot()`"
      ]
    },
    {
      "cell_type": "code",
      "metadata": {
        "id": "LCT2GnfdmDdv",
        "colab_type": "code",
        "colab": {}
      },
      "source": [
        "import numpy as np\n",
        "import matplotlib.pyplot as plt\n",
        "\n",
        "x = np.arange(0, 10, 0.1)\n",
        "y = np.sin(x)\n",
        "plt.style.use(\"ggplot\")\n",
        "\n",
        "# START CODE HERE (5 lines)\n",
        "\n",
        "# END CODE HERE"
      ],
      "execution_count": 0,
      "outputs": []
    },
    {
      "cell_type": "markdown",
      "metadata": {
        "id": "MMvwNyfnoSTI",
        "colab_type": "text"
      },
      "source": [
        "If you did this correctly your result should look like this- \n",
        "\n",
        "![image.png](data:image/png;base64,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)"
      ]
    },
    {
      "cell_type": "markdown",
      "metadata": {
        "id": "UtTKIRpCo88z",
        "colab_type": "text"
      },
      "source": [
        "<h3>Task 4.2</h3>\n",
        "\n",
        "You will now create a bar graph using `seaborn` for the breast cancer dataset. Your $x$ should here be \"disgnosis\" as I want to analyze that column"
      ]
    },
    {
      "cell_type": "code",
      "metadata": {
        "id": "qRxOYI81m0_s",
        "colab_type": "code",
        "colab": {}
      },
      "source": [
        "import pandas as pd\n",
        "import seaborn as sns\n",
        "\n",
        "df = pd.read_csv(\"http://datasets.rishit.tech/wisconsin-breast-cancer(diagnostic).csv\")\n",
        "\n",
        "# START CODE HERE (1 line)\n",
        "\n",
        "# END CODE HERE"
      ],
      "execution_count": 0,
      "outputs": []
    },
    {
      "cell_type": "markdown",
      "metadata": {
        "id": "SwWH_ZGJqNri",
        "colab_type": "text"
      },
      "source": [
        "If you did the above excercise correctly you should see an output like this-\n",
        "\n",
        "![image.png](data:image/png;base64,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)"
      ]
    },
    {
      "cell_type": "markdown",
      "metadata": {
        "id": "vuNuGEeOqY3T",
        "colab_type": "text"
      },
      "source": [
        "You just completed the excercise and know the basics of Python and also how you could plot too!"
      ]
    }
  ]
}