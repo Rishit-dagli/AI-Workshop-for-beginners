{
  "nbformat": 4,
  "nbformat_minor": 0,
  "metadata": {
    "colab": {
      "name": "Day 1 Excercise.ipynb",
      "provenance": [],
      "authorship_tag": "ABX9TyOw+zEau/qOd2s/OgcJUgNe",
      "include_colab_link": true
    },
    "kernelspec": {
      "name": "python3",
      "display_name": "Python 3"
    }
  },
  "cells": [
    {
      "cell_type": "markdown",
      "metadata": {
        "id": "view-in-github",
        "colab_type": "text"
      },
      "source": [
        "<a href=\"https://colab.research.google.com/github/Rishit-dagli/AI-Workshop-for-beginners/blob/master/Week%201/Day_1_Excercise.ipynb\" target=\"_parent\"><img src=\"https://colab.research.google.com/assets/colab-badge.svg\" alt=\"Open In Colab\"/></a>"
      ]
    },
    {
      "cell_type": "markdown",
      "metadata": {
        "id": "CxgeWxvGbz80",
        "colab_type": "text"
      },
      "source": [
        "##### Copyright 2020 Rishit Dagli"
      ]
    },
    {
      "cell_type": "code",
      "metadata": {
        "id": "yf1R4EU8bq50",
        "colab_type": "code",
        "colab": {}
      },
      "source": [
        "#@title Licensed under the Apache License, Version 2.0 (the \"License\");\n",
        "# you may not use this file except in compliance with the License.\n",
        "# You may obtain a copy of the License at\n",
        "#\n",
        "# https://www.apache.org/licenses/LICENSE-2.0\n",
        "#\n",
        "# Unless required by applicable law or agreed to in writing, software\n",
        "# distributed under the License is distributed on an \"AS IS\" BASIS,\n",
        "# WITHOUT WARRANTIES OR CONDITIONS OF ANY KIND, either express or implied.\n",
        "# See the License for the specific language governing permissions and\n",
        "# limitations under the License."
      ],
      "execution_count": 0,
      "outputs": []
    },
    {
      "cell_type": "markdown",
      "metadata": {
        "id": "0bi6Y25bKfZw",
        "colab_type": "text"
      },
      "source": [
        "<h1> Python for Beginners Excercise</h1>\n",
        "\n",
        "You will now apply everything you learnt in this weeks lab and use it to complete a few tasks"
      ]
    },
    {
      "cell_type": "markdown",
      "metadata": {
        "id": "dsD0DQAgKsp-",
        "colab_type": "text"
      },
      "source": [
        "## Task 1: Imports"
      ]
    },
    {
      "cell_type": "markdown",
      "metadata": {
        "id": "G7I5VmbYKvw9",
        "colab_type": "text"
      },
      "source": [
        "<h3> Task 1.1 </h3>\n",
        "\n",
        "You need to import a module called `pandas` under the alias name `pd`"
      ]
    },
    {
      "cell_type": "code",
      "metadata": {
        "id": "ygghlsITKUrP",
        "colab_type": "code",
        "colab": {}
      },
      "source": [
        "# START CODE HERE (2 lines)\n",
        "\n",
        "# END CODE HERE"
      ],
      "execution_count": 0,
      "outputs": []
    },
    {
      "cell_type": "code",
      "metadata": {
        "id": "eekZI7jqLNiJ",
        "colab_type": "code",
        "colab": {}
      },
      "source": [
        "pd.__version__"
      ],
      "execution_count": 0,
      "outputs": []
    },
    {
      "cell_type": "markdown",
      "metadata": {
        "id": "mpZAJhKZLUua",
        "colab_type": "text"
      },
      "source": [
        "If you have written the code properly for the above excercise you should see something like `1.3.0` or if you are doing this course at a later date you might see some other number but you should not get any error"
      ]
    },
    {
      "cell_type": "markdown",
      "metadata": {
        "id": "2h8Mu7oALlKq",
        "colab_type": "text"
      },
      "source": [
        "<h3>Task 1.2</h3>\n",
        "\n",
        "From the library `matplotlib` import the class `pyplot`"
      ]
    },
    {
      "cell_type": "code",
      "metadata": {
        "id": "QAC32ScjL7_y",
        "colab_type": "code",
        "colab": {}
      },
      "source": [
        "# START CODE HERE (1 line)\n",
        "\n",
        "# END CODE HERE"
      ],
      "execution_count": 0,
      "outputs": []
    },
    {
      "cell_type": "code",
      "metadata": {
        "id": "wsYAt69uMV-C",
        "colab_type": "code",
        "colab": {}
      },
      "source": [
        "pyplot"
      ],
      "execution_count": 0,
      "outputs": []
    },
    {
      "cell_type": "markdown",
      "metadata": {
        "id": "hvVGs_CEMNdc",
        "colab_type": "text"
      },
      "source": [
        "If you have written the code properly for the above excercise you should see something like this-\n",
        "\n",
        "```\n",
        "<module 'matplotlib.pyplot' from '/usr/local/lib/python3.6/dist-packages/matplotlib/pyplot.py'>\n",
        "```"
      ]
    },
    {
      "cell_type": "markdown",
      "metadata": {
        "id": "NwrtUukNf2At",
        "colab_type": "text"
      },
      "source": [
        "## Task 2: Functions\n",
        "\n",
        "Define a function called `test()` which takes two parameters called `x1` and `x2` and returns $(x_1)^4 + (x_2)^4$.\n",
        "\n",
        "Hint: you can use a code like this to compute raised to 3 like this `x**3`"
      ]
    },
    {
      "cell_type": "code",
      "metadata": {
        "id": "PpnSjwgriHTB",
        "colab_type": "code",
        "colab": {}
      },
      "source": [
        "def test(x1, x2):\n",
        "  # START CODE HERE (2 lines)\n",
        "\n",
        "  # END CODE HERE"
      ],
      "execution_count": 0,
      "outputs": []
    },
    {
      "cell_type": "code",
      "metadata": {
        "id": "sdTmtsGMiFd0",
        "colab_type": "code",
        "colab": {}
      },
      "source": [
        "test(3, 4)"
      ],
      "execution_count": 0,
      "outputs": []
    },
    {
      "cell_type": "markdown",
      "metadata": {
        "id": "YWLMyuHBiLiO",
        "colab_type": "text"
      },
      "source": [
        "If you wrote the code write you should receive the output\n",
        "```\n",
        "337\n",
        "```"
      ]
    },
    {
      "cell_type": "markdown",
      "metadata": {
        "id": "tVGQCaPtMcWO",
        "colab_type": "text"
      },
      "source": [
        "## Task 3: Use a GPU"
      ]
    },
    {
      "cell_type": "markdown",
      "metadata": {
        "id": "M9hyiGd9MfGg",
        "colab_type": "text"
      },
      "source": [
        "Now you will use a GPU in Colab, run the cell below this"
      ]
    },
    {
      "cell_type": "code",
      "metadata": {
        "id": "S3IivzxdMYAc",
        "colab_type": "code",
        "colab": {}
      },
      "source": [
        "import tensorflow as tf\n",
        "tf.test.is_gpu_available()"
      ],
      "execution_count": 0,
      "outputs": []
    },
    {
      "cell_type": "markdown",
      "metadata": {
        "id": "awnDyq4MMs3k",
        "colab_type": "text"
      },
      "source": [
        "If you performed the tasks correctly you will receive the output\n",
        "\n",
        "```\n",
        "True\n",
        "```\n",
        "\n",
        "If you receive `False` double check what you did"
      ]
    }
  ]
}