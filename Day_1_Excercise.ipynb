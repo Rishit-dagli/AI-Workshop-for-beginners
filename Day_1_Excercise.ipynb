{
  "nbformat": 4,
  "nbformat_minor": 0,
  "metadata": {
    "colab": {
      "name": "Day 1 Excercise.ipynb",
      "provenance": [],
      "authorship_tag": "ABX9TyNAFmXGmrbOCAdcJQv5lo1D",
      "include_colab_link": true
    },
    "kernelspec": {
      "name": "python3",
      "display_name": "Python 3"
    }
  },
  "cells": [
    {
      "cell_type": "markdown",
      "metadata": {
        "id": "view-in-github",
        "colab_type": "text"
      },
      "source": [
        "<a href=\"https://colab.research.google.com/github/Rishit-dagli/AI-Workshop-for-beginners/blob/master/Day_1_Excercise.ipynb\" target=\"_parent\"><img src=\"https://colab.research.google.com/assets/colab-badge.svg\" alt=\"Open In Colab\"/></a>"
      ]
    },
    {
      "cell_type": "markdown",
      "metadata": {
        "id": "0bi6Y25bKfZw",
        "colab_type": "text"
      },
      "source": [
        "<h1> Python for Beginners Excercise</h1>\n",
        "\n",
        "This notebook is a part of the workshop by [Rishit Dagli](https://www.rishit.tech) and is created by him.\n",
        "\n",
        "You will now apply everything you learnt in this weeks lab to use with the excercise"
      ]
    },
    {
      "cell_type": "markdown",
      "metadata": {
        "id": "dsD0DQAgKsp-",
        "colab_type": "text"
      },
      "source": [
        "## Task 1: Imports"
      ]
    },
    {
      "cell_type": "markdown",
      "metadata": {
        "id": "G7I5VmbYKvw9",
        "colab_type": "text"
      },
      "source": [
        "<h3> Task 1.1 </h3>\n",
        "\n",
        "You need to import a module called `pandas` under the alias name `pd`"
      ]
    },
    {
      "cell_type": "code",
      "metadata": {
        "id": "ygghlsITKUrP",
        "colab_type": "code",
        "colab": {}
      },
      "source": [
        "# START CODE HERE (2 lines)\n",
        "\n",
        "# END CODE HERE"
      ],
      "execution_count": 0,
      "outputs": []
    },
    {
      "cell_type": "code",
      "metadata": {
        "id": "eekZI7jqLNiJ",
        "colab_type": "code",
        "colab": {}
      },
      "source": [
        "pd.__version__"
      ],
      "execution_count": 0,
      "outputs": []
    },
    {
      "cell_type": "markdown",
      "metadata": {
        "id": "mpZAJhKZLUua",
        "colab_type": "text"
      },
      "source": [
        "If you have written the code properly for the above excercise you should see something like `1.3.0` or if you are doing this course at a later date you might see some other number but you should not get any error"
      ]
    },
    {
      "cell_type": "markdown",
      "metadata": {
        "id": "2h8Mu7oALlKq",
        "colab_type": "text"
      },
      "source": [
        "<h3>Task 1.2</h3>\n",
        "\n",
        "From the library `matplotlib` import the class `pyplot`"
      ]
    },
    {
      "cell_type": "code",
      "metadata": {
        "id": "QAC32ScjL7_y",
        "colab_type": "code",
        "colab": {}
      },
      "source": [
        "# START CODE HERE (1 line)\n",
        "\n",
        "# END CODE HERE"
      ],
      "execution_count": 0,
      "outputs": []
    },
    {
      "cell_type": "code",
      "metadata": {
        "id": "wsYAt69uMV-C",
        "colab_type": "code",
        "colab": {}
      },
      "source": [
        "pyplot"
      ],
      "execution_count": 0,
      "outputs": []
    },
    {
      "cell_type": "markdown",
      "metadata": {
        "id": "hvVGs_CEMNdc",
        "colab_type": "text"
      },
      "source": [
        "If you have written the code properly for the above excercise you should see something like this-\n",
        "\n",
        "```\n",
        "<module 'matplotlib.pyplot' from '/usr/local/lib/python3.6/dist-packages/matplotlib/pyplot.py'>\n",
        "```"
      ]
    },
    {
      "cell_type": "markdown",
      "metadata": {
        "id": "tVGQCaPtMcWO",
        "colab_type": "text"
      },
      "source": [
        "## Use a GPU"
      ]
    },
    {
      "cell_type": "markdown",
      "metadata": {
        "id": "M9hyiGd9MfGg",
        "colab_type": "text"
      },
      "source": [
        "Now you will use a GPU in Colab, run the cell below this"
      ]
    },
    {
      "cell_type": "code",
      "metadata": {
        "id": "S3IivzxdMYAc",
        "colab_type": "code",
        "colab": {}
      },
      "source": [
        "import tensorflow as tf\n",
        "tf.test.is_gpu_available()"
      ],
      "execution_count": 0,
      "outputs": []
    },
    {
      "cell_type": "markdown",
      "metadata": {
        "id": "awnDyq4MMs3k",
        "colab_type": "text"
      },
      "source": [
        "If you performed the tasks correctly you will receive the output\n",
        "\n",
        "```\n",
        "True\n",
        "```\n",
        "\n",
        "If you receive `False` double check what you did"
      ]
    }
  ]
}